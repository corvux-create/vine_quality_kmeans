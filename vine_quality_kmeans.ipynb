{
 "cells": [
  {
   "cell_type": "code",
   "execution_count": 1,
   "metadata": {},
   "outputs": [
    {
     "data": {
      "text/html": [
       "<div>\n",
       "<style scoped>\n",
       "    .dataframe tbody tr th:only-of-type {\n",
       "        vertical-align: middle;\n",
       "    }\n",
       "\n",
       "    .dataframe tbody tr th {\n",
       "        vertical-align: top;\n",
       "    }\n",
       "\n",
       "    .dataframe thead th {\n",
       "        text-align: right;\n",
       "    }\n",
       "</style>\n",
       "<table border=\"1\" class=\"dataframe\">\n",
       "  <thead>\n",
       "    <tr style=\"text-align: right;\">\n",
       "      <th></th>\n",
       "      <th>STG</th>\n",
       "      <th>SCG</th>\n",
       "      <th>STR</th>\n",
       "      <th>LPR</th>\n",
       "      <th>PEG</th>\n",
       "      <th>UNS</th>\n",
       "    </tr>\n",
       "  </thead>\n",
       "  <tbody>\n",
       "    <tr>\n",
       "      <th>0</th>\n",
       "      <td>0.00</td>\n",
       "      <td>0.00</td>\n",
       "      <td>0.00</td>\n",
       "      <td>0.00</td>\n",
       "      <td>0.00</td>\n",
       "      <td>very_low</td>\n",
       "    </tr>\n",
       "    <tr>\n",
       "      <th>1</th>\n",
       "      <td>0.08</td>\n",
       "      <td>0.08</td>\n",
       "      <td>0.10</td>\n",
       "      <td>0.24</td>\n",
       "      <td>0.90</td>\n",
       "      <td>High</td>\n",
       "    </tr>\n",
       "    <tr>\n",
       "      <th>2</th>\n",
       "      <td>0.06</td>\n",
       "      <td>0.06</td>\n",
       "      <td>0.05</td>\n",
       "      <td>0.25</td>\n",
       "      <td>0.33</td>\n",
       "      <td>Low</td>\n",
       "    </tr>\n",
       "    <tr>\n",
       "      <th>3</th>\n",
       "      <td>0.10</td>\n",
       "      <td>0.10</td>\n",
       "      <td>0.15</td>\n",
       "      <td>0.65</td>\n",
       "      <td>0.30</td>\n",
       "      <td>Middle</td>\n",
       "    </tr>\n",
       "    <tr>\n",
       "      <th>4</th>\n",
       "      <td>0.08</td>\n",
       "      <td>0.08</td>\n",
       "      <td>0.08</td>\n",
       "      <td>0.98</td>\n",
       "      <td>0.24</td>\n",
       "      <td>Low</td>\n",
       "    </tr>\n",
       "  </tbody>\n",
       "</table>\n",
       "</div>"
      ],
      "text/plain": [
       "    STG   SCG   STR   LPR   PEG       UNS\n",
       "0  0.00  0.00  0.00  0.00  0.00  very_low\n",
       "1  0.08  0.08  0.10  0.24  0.90      High\n",
       "2  0.06  0.06  0.05  0.25  0.33       Low\n",
       "3  0.10  0.10  0.15  0.65  0.30    Middle\n",
       "4  0.08  0.08  0.08  0.98  0.24       Low"
      ]
     },
     "execution_count": 1,
     "metadata": {},
     "output_type": "execute_result"
    }
   ],
   "source": [
    "import pandas as pd\n",
    "import numpy as np\n",
    "from sklearn.cluster import KMeans\n",
    "import category_encoders as ce\n",
    "from kneed import KneeLocator, DataGenerator\n",
    "\n",
    "import matplotlib.pyplot as plt\n",
    "\n",
    "#Graphic library plotly\n",
    "import plotly.graph_objects as go\n",
    "\n",
    "# Read in data, add header row and display first 5 rows\n",
    "users = pd.read_csv('data_student.xls')\n",
    "users.head(5)"
   ]
  },
  {
   "cell_type": "markdown",
   "metadata": {},
   "source": [
    "# Identify Anomalies/ Missing Data"
   ]
  },
  {
   "cell_type": "code",
   "execution_count": 2,
   "metadata": {},
   "outputs": [
    {
     "name": "stdout",
     "output_type": "stream",
     "text": [
      "The shape of our users dataset is: (258, 6)\n"
     ]
    }
   ],
   "source": [
    "print('The shape of our users dataset is:', users.shape)"
   ]
  },
  {
   "cell_type": "markdown",
   "metadata": {},
   "source": [
    "**To identify anomalies, we can quickly compute summary statistics.**"
   ]
  },
  {
   "cell_type": "code",
   "execution_count": 3,
   "metadata": {},
   "outputs": [
    {
     "data": {
      "text/html": [
       "<div>\n",
       "<style scoped>\n",
       "    .dataframe tbody tr th:only-of-type {\n",
       "        vertical-align: middle;\n",
       "    }\n",
       "\n",
       "    .dataframe tbody tr th {\n",
       "        vertical-align: top;\n",
       "    }\n",
       "\n",
       "    .dataframe thead th {\n",
       "        text-align: right;\n",
       "    }\n",
       "</style>\n",
       "<table border=\"1\" class=\"dataframe\">\n",
       "  <thead>\n",
       "    <tr style=\"text-align: right;\">\n",
       "      <th></th>\n",
       "      <th>STG</th>\n",
       "      <th>SCG</th>\n",
       "      <th>STR</th>\n",
       "      <th>LPR</th>\n",
       "      <th>PEG</th>\n",
       "    </tr>\n",
       "  </thead>\n",
       "  <tbody>\n",
       "    <tr>\n",
       "      <th>count</th>\n",
       "      <td>258.000000</td>\n",
       "      <td>258.000000</td>\n",
       "      <td>258.000000</td>\n",
       "      <td>258.000000</td>\n",
       "      <td>258.000000</td>\n",
       "    </tr>\n",
       "    <tr>\n",
       "      <th>mean</th>\n",
       "      <td>0.371147</td>\n",
       "      <td>0.355674</td>\n",
       "      <td>0.468004</td>\n",
       "      <td>0.432713</td>\n",
       "      <td>0.458539</td>\n",
       "    </tr>\n",
       "    <tr>\n",
       "      <th>std</th>\n",
       "      <td>0.210271</td>\n",
       "      <td>0.211962</td>\n",
       "      <td>0.245940</td>\n",
       "      <td>0.248108</td>\n",
       "      <td>0.255211</td>\n",
       "    </tr>\n",
       "    <tr>\n",
       "      <th>min</th>\n",
       "      <td>0.000000</td>\n",
       "      <td>0.000000</td>\n",
       "      <td>0.000000</td>\n",
       "      <td>0.000000</td>\n",
       "      <td>0.000000</td>\n",
       "    </tr>\n",
       "    <tr>\n",
       "      <th>25%</th>\n",
       "      <td>0.240750</td>\n",
       "      <td>0.210000</td>\n",
       "      <td>0.291250</td>\n",
       "      <td>0.250000</td>\n",
       "      <td>0.250000</td>\n",
       "    </tr>\n",
       "    <tr>\n",
       "      <th>50%</th>\n",
       "      <td>0.327000</td>\n",
       "      <td>0.302500</td>\n",
       "      <td>0.490000</td>\n",
       "      <td>0.330000</td>\n",
       "      <td>0.500000</td>\n",
       "    </tr>\n",
       "    <tr>\n",
       "      <th>75%</th>\n",
       "      <td>0.495000</td>\n",
       "      <td>0.497500</td>\n",
       "      <td>0.690000</td>\n",
       "      <td>0.647500</td>\n",
       "      <td>0.660000</td>\n",
       "    </tr>\n",
       "    <tr>\n",
       "      <th>max</th>\n",
       "      <td>0.990000</td>\n",
       "      <td>0.900000</td>\n",
       "      <td>0.950000</td>\n",
       "      <td>0.990000</td>\n",
       "      <td>0.930000</td>\n",
       "    </tr>\n",
       "  </tbody>\n",
       "</table>\n",
       "</div>"
      ],
      "text/plain": [
       "              STG         SCG         STR         LPR         PEG\n",
       "count  258.000000  258.000000  258.000000  258.000000  258.000000\n",
       "mean     0.371147    0.355674    0.468004    0.432713    0.458539\n",
       "std      0.210271    0.211962    0.245940    0.248108    0.255211\n",
       "min      0.000000    0.000000    0.000000    0.000000    0.000000\n",
       "25%      0.240750    0.210000    0.291250    0.250000    0.250000\n",
       "50%      0.327000    0.302500    0.490000    0.330000    0.500000\n",
       "75%      0.495000    0.497500    0.690000    0.647500    0.660000\n",
       "max      0.990000    0.900000    0.950000    0.990000    0.930000"
      ]
     },
     "execution_count": 3,
     "metadata": {},
     "output_type": "execute_result"
    }
   ],
   "source": [
    "# Descriptive statistics for each column\n",
    "users.describe()"
   ]
  },
  {
   "cell_type": "code",
   "execution_count": 4,
   "metadata": {},
   "outputs": [
    {
     "data": {
      "text/plain": [
       "STG    0\n",
       "SCG    0\n",
       "STR    0\n",
       "LPR    0\n",
       "PEG    0\n",
       "UNS    0\n",
       "dtype: int64"
      ]
     },
     "execution_count": 4,
     "metadata": {},
     "output_type": "execute_result"
    }
   ],
   "source": [
    "users.isna().sum()"
   ]
  },
  {
   "cell_type": "code",
   "execution_count": 5,
   "metadata": {},
   "outputs": [
    {
     "data": {
      "text/plain": [
       "STG    2\n",
       "SCG    2\n",
       "STR    1\n",
       "LPR    1\n",
       "PEG    2\n",
       "UNS    0\n",
       "dtype: int64"
      ]
     },
     "execution_count": 5,
     "metadata": {},
     "output_type": "execute_result"
    }
   ],
   "source": [
    "(users==0).sum()"
   ]
  },
  {
   "cell_type": "markdown",
   "metadata": {},
   "source": [
    "Get columns 'UNS' (user Knowledge) unique values"
   ]
  },
  {
   "cell_type": "code",
   "execution_count": 6,
   "metadata": {},
   "outputs": [
    {
     "data": {
      "text/plain": [
       "array(['very_low', 'High', 'Low', 'Middle'], dtype=object)"
      ]
     },
     "execution_count": 6,
     "metadata": {},
     "output_type": "execute_result"
    }
   ],
   "source": [
    "users.UNS.unique()"
   ]
  },
  {
   "cell_type": "code",
   "execution_count": 7,
   "metadata": {},
   "outputs": [
    {
     "data": {
      "text/html": [
       "<div>\n",
       "<style scoped>\n",
       "    .dataframe tbody tr th:only-of-type {\n",
       "        vertical-align: middle;\n",
       "    }\n",
       "\n",
       "    .dataframe tbody tr th {\n",
       "        vertical-align: top;\n",
       "    }\n",
       "\n",
       "    .dataframe thead th {\n",
       "        text-align: right;\n",
       "    }\n",
       "</style>\n",
       "<table border=\"1\" class=\"dataframe\">\n",
       "  <thead>\n",
       "    <tr style=\"text-align: right;\">\n",
       "      <th></th>\n",
       "      <th>STG</th>\n",
       "      <th>PEG</th>\n",
       "    </tr>\n",
       "  </thead>\n",
       "  <tbody>\n",
       "    <tr>\n",
       "      <th>0</th>\n",
       "      <td>0.00</td>\n",
       "      <td>0.00</td>\n",
       "    </tr>\n",
       "    <tr>\n",
       "      <th>1</th>\n",
       "      <td>0.08</td>\n",
       "      <td>0.90</td>\n",
       "    </tr>\n",
       "    <tr>\n",
       "      <th>2</th>\n",
       "      <td>0.06</td>\n",
       "      <td>0.33</td>\n",
       "    </tr>\n",
       "    <tr>\n",
       "      <th>3</th>\n",
       "      <td>0.10</td>\n",
       "      <td>0.30</td>\n",
       "    </tr>\n",
       "    <tr>\n",
       "      <th>4</th>\n",
       "      <td>0.08</td>\n",
       "      <td>0.24</td>\n",
       "    </tr>\n",
       "  </tbody>\n",
       "</table>\n",
       "</div>"
      ],
      "text/plain": [
       "    STG   PEG\n",
       "0  0.00  0.00\n",
       "1  0.08  0.90\n",
       "2  0.06  0.33\n",
       "3  0.10  0.30\n",
       "4  0.08  0.24"
      ]
     },
     "execution_count": 7,
     "metadata": {},
     "output_type": "execute_result"
    }
   ],
   "source": [
    "# create object of Ordinalencoding\n",
    "encoder= ce.OrdinalEncoder(cols=['UNS'],return_df=True,\n",
    "                           mapping=[{'col':'UNS',\n",
    "'mapping':{'very_low':1,'Low':2,'Middle':3,'High':4}}])\n",
    "\n",
    "#fit and transform train data \n",
    "users_transformed = encoder.fit_transform(users)\n",
    "\n",
    "\n",
    "users_data = users_transformed.drop(['SCG', 'STR', 'LPR', 'UNS'], axis=1)\n",
    "users_data.head(5)"
   ]
  },
  {
   "cell_type": "markdown",
   "metadata": {},
   "source": [
    "## Running K-Means with a range of k\n",
    "\n",
    "We can easily run K-Means for a range of clusters using a for loop and collecting the distortions into a list."
   ]
  },
  {
   "cell_type": "code",
   "execution_count": 8,
   "metadata": {},
   "outputs": [],
   "source": [
    "distortions = []\n",
    "K = range(1,10)\n",
    "for k in K:\n",
    "    kmeanModel = KMeans(n_clusters=k)\n",
    "    kmeanModel.fit(users_data)\n",
    "    distortions.append(kmeanModel.inertia_)"
   ]
  },
  {
   "cell_type": "markdown",
   "metadata": {},
   "source": [
    "## Plotting the distortions of K-Means"
   ]
  },
  {
   "cell_type": "code",
   "execution_count": 9,
   "metadata": {},
   "outputs": [
    {
     "data": {
      "application/vnd.plotly.v1+json": {
       "config": {
        "plotlyServerURL": "https://plot.ly"
       },
       "data": [
        {
         "type": "scatter",
         "x": [
          1,
          2,
          3,
          4,
          5,
          6,
          7,
          8,
          9
         ],
         "y": [
          28.102070515503875,
          14.0679841550313,
          9.132280208680209,
          6.719095262663892,
          5.335254754405245,
          4.440412254063057,
          3.5593103078192634,
          3.11460167155268,
          2.70818640506066
         ]
        }
       ],
       "layout": {
        "template": {
         "data": {
          "bar": [
           {
            "error_x": {
             "color": "#2a3f5f"
            },
            "error_y": {
             "color": "#2a3f5f"
            },
            "marker": {
             "line": {
              "color": "#E5ECF6",
              "width": 0.5
             },
             "pattern": {
              "fillmode": "overlay",
              "size": 10,
              "solidity": 0.2
             }
            },
            "type": "bar"
           }
          ],
          "barpolar": [
           {
            "marker": {
             "line": {
              "color": "#E5ECF6",
              "width": 0.5
             },
             "pattern": {
              "fillmode": "overlay",
              "size": 10,
              "solidity": 0.2
             }
            },
            "type": "barpolar"
           }
          ],
          "carpet": [
           {
            "aaxis": {
             "endlinecolor": "#2a3f5f",
             "gridcolor": "white",
             "linecolor": "white",
             "minorgridcolor": "white",
             "startlinecolor": "#2a3f5f"
            },
            "baxis": {
             "endlinecolor": "#2a3f5f",
             "gridcolor": "white",
             "linecolor": "white",
             "minorgridcolor": "white",
             "startlinecolor": "#2a3f5f"
            },
            "type": "carpet"
           }
          ],
          "choropleth": [
           {
            "colorbar": {
             "outlinewidth": 0,
             "ticks": ""
            },
            "type": "choropleth"
           }
          ],
          "contour": [
           {
            "colorbar": {
             "outlinewidth": 0,
             "ticks": ""
            },
            "colorscale": [
             [
              0,
              "#0d0887"
             ],
             [
              0.1111111111111111,
              "#46039f"
             ],
             [
              0.2222222222222222,
              "#7201a8"
             ],
             [
              0.3333333333333333,
              "#9c179e"
             ],
             [
              0.4444444444444444,
              "#bd3786"
             ],
             [
              0.5555555555555556,
              "#d8576b"
             ],
             [
              0.6666666666666666,
              "#ed7953"
             ],
             [
              0.7777777777777778,
              "#fb9f3a"
             ],
             [
              0.8888888888888888,
              "#fdca26"
             ],
             [
              1,
              "#f0f921"
             ]
            ],
            "type": "contour"
           }
          ],
          "contourcarpet": [
           {
            "colorbar": {
             "outlinewidth": 0,
             "ticks": ""
            },
            "type": "contourcarpet"
           }
          ],
          "heatmap": [
           {
            "colorbar": {
             "outlinewidth": 0,
             "ticks": ""
            },
            "colorscale": [
             [
              0,
              "#0d0887"
             ],
             [
              0.1111111111111111,
              "#46039f"
             ],
             [
              0.2222222222222222,
              "#7201a8"
             ],
             [
              0.3333333333333333,
              "#9c179e"
             ],
             [
              0.4444444444444444,
              "#bd3786"
             ],
             [
              0.5555555555555556,
              "#d8576b"
             ],
             [
              0.6666666666666666,
              "#ed7953"
             ],
             [
              0.7777777777777778,
              "#fb9f3a"
             ],
             [
              0.8888888888888888,
              "#fdca26"
             ],
             [
              1,
              "#f0f921"
             ]
            ],
            "type": "heatmap"
           }
          ],
          "heatmapgl": [
           {
            "colorbar": {
             "outlinewidth": 0,
             "ticks": ""
            },
            "colorscale": [
             [
              0,
              "#0d0887"
             ],
             [
              0.1111111111111111,
              "#46039f"
             ],
             [
              0.2222222222222222,
              "#7201a8"
             ],
             [
              0.3333333333333333,
              "#9c179e"
             ],
             [
              0.4444444444444444,
              "#bd3786"
             ],
             [
              0.5555555555555556,
              "#d8576b"
             ],
             [
              0.6666666666666666,
              "#ed7953"
             ],
             [
              0.7777777777777778,
              "#fb9f3a"
             ],
             [
              0.8888888888888888,
              "#fdca26"
             ],
             [
              1,
              "#f0f921"
             ]
            ],
            "type": "heatmapgl"
           }
          ],
          "histogram": [
           {
            "marker": {
             "pattern": {
              "fillmode": "overlay",
              "size": 10,
              "solidity": 0.2
             }
            },
            "type": "histogram"
           }
          ],
          "histogram2d": [
           {
            "colorbar": {
             "outlinewidth": 0,
             "ticks": ""
            },
            "colorscale": [
             [
              0,
              "#0d0887"
             ],
             [
              0.1111111111111111,
              "#46039f"
             ],
             [
              0.2222222222222222,
              "#7201a8"
             ],
             [
              0.3333333333333333,
              "#9c179e"
             ],
             [
              0.4444444444444444,
              "#bd3786"
             ],
             [
              0.5555555555555556,
              "#d8576b"
             ],
             [
              0.6666666666666666,
              "#ed7953"
             ],
             [
              0.7777777777777778,
              "#fb9f3a"
             ],
             [
              0.8888888888888888,
              "#fdca26"
             ],
             [
              1,
              "#f0f921"
             ]
            ],
            "type": "histogram2d"
           }
          ],
          "histogram2dcontour": [
           {
            "colorbar": {
             "outlinewidth": 0,
             "ticks": ""
            },
            "colorscale": [
             [
              0,
              "#0d0887"
             ],
             [
              0.1111111111111111,
              "#46039f"
             ],
             [
              0.2222222222222222,
              "#7201a8"
             ],
             [
              0.3333333333333333,
              "#9c179e"
             ],
             [
              0.4444444444444444,
              "#bd3786"
             ],
             [
              0.5555555555555556,
              "#d8576b"
             ],
             [
              0.6666666666666666,
              "#ed7953"
             ],
             [
              0.7777777777777778,
              "#fb9f3a"
             ],
             [
              0.8888888888888888,
              "#fdca26"
             ],
             [
              1,
              "#f0f921"
             ]
            ],
            "type": "histogram2dcontour"
           }
          ],
          "mesh3d": [
           {
            "colorbar": {
             "outlinewidth": 0,
             "ticks": ""
            },
            "type": "mesh3d"
           }
          ],
          "parcoords": [
           {
            "line": {
             "colorbar": {
              "outlinewidth": 0,
              "ticks": ""
             }
            },
            "type": "parcoords"
           }
          ],
          "pie": [
           {
            "automargin": true,
            "type": "pie"
           }
          ],
          "scatter": [
           {
            "fillpattern": {
             "fillmode": "overlay",
             "size": 10,
             "solidity": 0.2
            },
            "type": "scatter"
           }
          ],
          "scatter3d": [
           {
            "line": {
             "colorbar": {
              "outlinewidth": 0,
              "ticks": ""
             }
            },
            "marker": {
             "colorbar": {
              "outlinewidth": 0,
              "ticks": ""
             }
            },
            "type": "scatter3d"
           }
          ],
          "scattercarpet": [
           {
            "marker": {
             "colorbar": {
              "outlinewidth": 0,
              "ticks": ""
             }
            },
            "type": "scattercarpet"
           }
          ],
          "scattergeo": [
           {
            "marker": {
             "colorbar": {
              "outlinewidth": 0,
              "ticks": ""
             }
            },
            "type": "scattergeo"
           }
          ],
          "scattergl": [
           {
            "marker": {
             "colorbar": {
              "outlinewidth": 0,
              "ticks": ""
             }
            },
            "type": "scattergl"
           }
          ],
          "scattermapbox": [
           {
            "marker": {
             "colorbar": {
              "outlinewidth": 0,
              "ticks": ""
             }
            },
            "type": "scattermapbox"
           }
          ],
          "scatterpolar": [
           {
            "marker": {
             "colorbar": {
              "outlinewidth": 0,
              "ticks": ""
             }
            },
            "type": "scatterpolar"
           }
          ],
          "scatterpolargl": [
           {
            "marker": {
             "colorbar": {
              "outlinewidth": 0,
              "ticks": ""
             }
            },
            "type": "scatterpolargl"
           }
          ],
          "scatterternary": [
           {
            "marker": {
             "colorbar": {
              "outlinewidth": 0,
              "ticks": ""
             }
            },
            "type": "scatterternary"
           }
          ],
          "surface": [
           {
            "colorbar": {
             "outlinewidth": 0,
             "ticks": ""
            },
            "colorscale": [
             [
              0,
              "#0d0887"
             ],
             [
              0.1111111111111111,
              "#46039f"
             ],
             [
              0.2222222222222222,
              "#7201a8"
             ],
             [
              0.3333333333333333,
              "#9c179e"
             ],
             [
              0.4444444444444444,
              "#bd3786"
             ],
             [
              0.5555555555555556,
              "#d8576b"
             ],
             [
              0.6666666666666666,
              "#ed7953"
             ],
             [
              0.7777777777777778,
              "#fb9f3a"
             ],
             [
              0.8888888888888888,
              "#fdca26"
             ],
             [
              1,
              "#f0f921"
             ]
            ],
            "type": "surface"
           }
          ],
          "table": [
           {
            "cells": {
             "fill": {
              "color": "#EBF0F8"
             },
             "line": {
              "color": "white"
             }
            },
            "header": {
             "fill": {
              "color": "#C8D4E3"
             },
             "line": {
              "color": "white"
             }
            },
            "type": "table"
           }
          ]
         },
         "layout": {
          "annotationdefaults": {
           "arrowcolor": "#2a3f5f",
           "arrowhead": 0,
           "arrowwidth": 1
          },
          "autotypenumbers": "strict",
          "coloraxis": {
           "colorbar": {
            "outlinewidth": 0,
            "ticks": ""
           }
          },
          "colorscale": {
           "diverging": [
            [
             0,
             "#8e0152"
            ],
            [
             0.1,
             "#c51b7d"
            ],
            [
             0.2,
             "#de77ae"
            ],
            [
             0.3,
             "#f1b6da"
            ],
            [
             0.4,
             "#fde0ef"
            ],
            [
             0.5,
             "#f7f7f7"
            ],
            [
             0.6,
             "#e6f5d0"
            ],
            [
             0.7,
             "#b8e186"
            ],
            [
             0.8,
             "#7fbc41"
            ],
            [
             0.9,
             "#4d9221"
            ],
            [
             1,
             "#276419"
            ]
           ],
           "sequential": [
            [
             0,
             "#0d0887"
            ],
            [
             0.1111111111111111,
             "#46039f"
            ],
            [
             0.2222222222222222,
             "#7201a8"
            ],
            [
             0.3333333333333333,
             "#9c179e"
            ],
            [
             0.4444444444444444,
             "#bd3786"
            ],
            [
             0.5555555555555556,
             "#d8576b"
            ],
            [
             0.6666666666666666,
             "#ed7953"
            ],
            [
             0.7777777777777778,
             "#fb9f3a"
            ],
            [
             0.8888888888888888,
             "#fdca26"
            ],
            [
             1,
             "#f0f921"
            ]
           ],
           "sequentialminus": [
            [
             0,
             "#0d0887"
            ],
            [
             0.1111111111111111,
             "#46039f"
            ],
            [
             0.2222222222222222,
             "#7201a8"
            ],
            [
             0.3333333333333333,
             "#9c179e"
            ],
            [
             0.4444444444444444,
             "#bd3786"
            ],
            [
             0.5555555555555556,
             "#d8576b"
            ],
            [
             0.6666666666666666,
             "#ed7953"
            ],
            [
             0.7777777777777778,
             "#fb9f3a"
            ],
            [
             0.8888888888888888,
             "#fdca26"
            ],
            [
             1,
             "#f0f921"
            ]
           ]
          },
          "colorway": [
           "#636efa",
           "#EF553B",
           "#00cc96",
           "#ab63fa",
           "#FFA15A",
           "#19d3f3",
           "#FF6692",
           "#B6E880",
           "#FF97FF",
           "#FECB52"
          ],
          "font": {
           "color": "#2a3f5f"
          },
          "geo": {
           "bgcolor": "white",
           "lakecolor": "white",
           "landcolor": "#E5ECF6",
           "showlakes": true,
           "showland": true,
           "subunitcolor": "white"
          },
          "hoverlabel": {
           "align": "left"
          },
          "hovermode": "closest",
          "mapbox": {
           "style": "light"
          },
          "paper_bgcolor": "white",
          "plot_bgcolor": "#E5ECF6",
          "polar": {
           "angularaxis": {
            "gridcolor": "white",
            "linecolor": "white",
            "ticks": ""
           },
           "bgcolor": "#E5ECF6",
           "radialaxis": {
            "gridcolor": "white",
            "linecolor": "white",
            "ticks": ""
           }
          },
          "scene": {
           "xaxis": {
            "backgroundcolor": "#E5ECF6",
            "gridcolor": "white",
            "gridwidth": 2,
            "linecolor": "white",
            "showbackground": true,
            "ticks": "",
            "zerolinecolor": "white"
           },
           "yaxis": {
            "backgroundcolor": "#E5ECF6",
            "gridcolor": "white",
            "gridwidth": 2,
            "linecolor": "white",
            "showbackground": true,
            "ticks": "",
            "zerolinecolor": "white"
           },
           "zaxis": {
            "backgroundcolor": "#E5ECF6",
            "gridcolor": "white",
            "gridwidth": 2,
            "linecolor": "white",
            "showbackground": true,
            "ticks": "",
            "zerolinecolor": "white"
           }
          },
          "shapedefaults": {
           "line": {
            "color": "#2a3f5f"
           }
          },
          "ternary": {
           "aaxis": {
            "gridcolor": "white",
            "linecolor": "white",
            "ticks": ""
           },
           "baxis": {
            "gridcolor": "white",
            "linecolor": "white",
            "ticks": ""
           },
           "bgcolor": "#E5ECF6",
           "caxis": {
            "gridcolor": "white",
            "linecolor": "white",
            "ticks": ""
           }
          },
          "title": {
           "x": 0.05
          },
          "xaxis": {
           "automargin": true,
           "gridcolor": "white",
           "linecolor": "white",
           "ticks": "",
           "title": {
            "standoff": 15
           },
           "zerolinecolor": "white",
           "zerolinewidth": 2
          },
          "yaxis": {
           "automargin": true,
           "gridcolor": "white",
           "linecolor": "white",
           "ticks": "",
           "title": {
            "standoff": 15
           },
           "zerolinecolor": "white",
           "zerolinewidth": 2
          }
         }
        },
        "title": {
         "text": "The Elbow Method showing the optimal k",
         "x": 0.5,
         "xanchor": "center",
         "y": 0.9,
         "yanchor": "top"
        },
        "xaxis": {
         "title": {
          "text": "k"
         }
        },
        "yaxis": {
         "title": {
          "text": "Distortion"
         }
        }
       }
      }
     },
     "metadata": {},
     "output_type": "display_data"
    }
   ],
   "source": [
    "fig = go.Figure(data=go.Scatter(\n",
    "    x = list(K),\n",
    "    y = distortions,\n",
    "))\n",
    "\n",
    "fig.update_xaxes(title_text=\"k\")\n",
    "fig.update_yaxes(title_text=\"Distortion\")\n",
    "\n",
    "fig.update_layout(\n",
    "    title={\n",
    "        'text': \"The Elbow Method showing the optimal k\",\n",
    "        'y':0.9,\n",
    "        'x':0.5,\n",
    "        'xanchor': 'center',\n",
    "        'yanchor': 'top'})\n",
    "\n",
    "fig.show()"
   ]
  },
  {
   "cell_type": "markdown",
   "metadata": {},
   "source": [
    "We can observe that the “elbow” is the number 3 which is optimal for this case.\n",
    "We can also check it using a Python package, kneed wich identify the elbow point programmatically:"
   ]
  },
  {
   "cell_type": "code",
   "execution_count": 10,
   "metadata": {},
   "outputs": [
    {
     "data": {
      "text/plain": [
       "3"
      ]
     },
     "execution_count": 10,
     "metadata": {},
     "output_type": "execute_result"
    }
   ],
   "source": [
    "kl = KneeLocator(range(1, 10), distortions, curve=\"convex\", direction=\"decreasing\")\n",
    "kl.elbow"
   ]
  },
  {
   "cell_type": "markdown",
   "metadata": {},
   "source": [
    "Now we can run a K-Means using as n_clusters the number 4."
   ]
  },
  {
   "cell_type": "code",
   "execution_count": 11,
   "metadata": {},
   "outputs": [
    {
     "name": "stdout",
     "output_type": "stream",
     "text": [
      "0      2\n",
      "1      3\n",
      "2      2\n",
      "3      2\n",
      "4      2\n",
      "      ..\n",
      "253    0\n",
      "254    0\n",
      "255    0\n",
      "256    1\n",
      "257    0\n",
      "Name: k_means, Length: 258, dtype: int32\n"
     ]
    }
   ],
   "source": [
    "kmeanModel = KMeans(n_clusters=4, init='k-means++', n_init = 10 ,max_iter=300, \n",
    "                        tol=0.0001,  random_state= 111  , algorithm='elkan')\n",
    "users_data['k_means']=kmeanModel.fit_predict(users_data)\n",
    "print(users_data['k_means'])"
   ]
  },
  {
   "cell_type": "code",
   "execution_count": 12,
   "metadata": {},
   "outputs": [
    {
     "data": {
      "text/plain": [
       "array([[0.71810811, 0.65594595],\n",
       "       [0.51728889, 0.24488889],\n",
       "       [0.21289744, 0.20478205],\n",
       "       [0.299     , 0.68408163]])"
      ]
     },
     "execution_count": 12,
     "metadata": {},
     "output_type": "execute_result"
    }
   ],
   "source": [
    "kmeanModel.cluster_centers_"
   ]
  },
  {
   "cell_type": "code",
   "execution_count": 13,
   "metadata": {},
   "outputs": [
    {
     "data": {
      "text/plain": [
       "Text(0.5, 1.0, 'K_Means')"
      ]
     },
     "execution_count": 13,
     "metadata": {},
     "output_type": "execute_result"
    },
    {
     "data": {
      "image/png": "[encoded data removed]",
      "text/plain": [
       "<Figure size 1152x576 with 2 Axes>"
      ]
     },
     "metadata": {
      "needs_background": "light"
     },
     "output_type": "display_data"
    }
   ],
   "source": [
    "# plt.scatter(users[:, 0], users[:, 1], c=users_transformed['k_means'], cmap='rainbow')\n",
    "\n",
    "# plt.scatter(users['PEG'], users['SCG'], c=users_transformed['k_means'], cmap='rainbow')\n",
    "\n",
    "fig, axes = plt.subplots(1, 2, figsize=(16,8))\n",
    "axes[0].scatter(users['STG'], users['PEG'], c=users_transformed['UNS'], cmap='rainbow')\n",
    "axes[1].scatter(users['STG'], users['PEG'], c=kmeanModel.labels_, cmap='rainbow')\n",
    "axes[0].set_title('Actual', fontsize=18)\n",
    "axes[1].set_title('K_Means', fontsize=18)"
   ]
  },
  {
   "cell_type": "code",
   "execution_count": 14,
   "metadata": {},
   "outputs": [
    {
     "data": {
      "application/vnd.plotly.v1+json": {
       "config": {
        "plotlyServerURL": "https://plot.ly"
       },
       "data": [
        {
         "hovertemplate": "STG=%{x}<br>PEG=%{y}<br>color=%{marker.color}<extra></extra>",
         "legendgroup": "",
         "marker": {
          "color": [
           2,
           3,
           2,
           2,
           2,
           3,
           3,
           2,
           2,
           3,
           3,
           2,
           2,
           3,
           3,
           3,
           2,
           2,
           2,
           3,
           2,
           3,
           3,
           2,
           2,
           3,
           2,
           2,
           3,
           3,
           3,
           2,
           2,
           3,
           3,
           2,
           2,
           2,
           2,
           2,
           2,
           3,
           3,
           2,
           2,
           3,
           3,
           3,
           3,
           3,
           2,
           3,
           2,
           3,
           3,
           2,
           2,
           3,
           3,
           2,
           2,
           3,
           3,
           2,
           2,
           2,
           2,
           3,
           2,
           3,
           3,
           3,
           2,
           3,
           3,
           2,
           2,
           2,
           2,
           2,
           2,
           3,
           3,
           2,
           2,
           2,
           3,
           2,
           2,
           3,
           3,
           2,
           2,
           2,
           3,
           2,
           2,
           3,
           3,
           2,
           2,
           3,
           3,
           2,
           2,
           3,
           3,
           3,
           2,
           3,
           2,
           2,
           3,
           3,
           3,
           3,
           2,
           3,
           3,
           3,
           2,
           2,
           2,
           3,
           3,
           3,
           3,
           2,
           2,
           2,
           1,
           3,
           1,
           3,
           3,
           3,
           1,
           2,
           3,
           1,
           2,
           1,
           3,
           1,
           3,
           3,
           1,
           2,
           2,
           3,
           3,
           2,
           2,
           1,
           3,
           3,
           3,
           3,
           3,
           3,
           2,
           1,
           3,
           3,
           2,
           3,
           3,
           3,
           2,
           3,
           1,
           3,
           3,
           1,
           3,
           1,
           1,
           3,
           3,
           3,
           2,
           3,
           3,
           1,
           1,
           1,
           3,
           3,
           1,
           1,
           3,
           3,
           3,
           3,
           0,
           1,
           1,
           1,
           0,
           1,
           1,
           0,
           1,
           1,
           0,
           1,
           0,
           0,
           1,
           0,
           0,
           0,
           0,
           1,
           0,
           1,
           1,
           0,
           0,
           1,
           1,
           1,
           0,
           0,
           1,
           0,
           0,
           1,
           0,
           0,
           0,
           1,
           1,
           0,
           0,
           1,
           1,
           0,
           0,
           0,
           1,
           0,
           0,
           1,
           1,
           0,
           0,
           1,
           0,
           0,
           0,
           0,
           1,
           0,
           0,
           0,
           1,
           0
          ],
          "coloraxis": "coloraxis",
          "symbol": "circle"
         },
         "mode": "markers",
         "name": "",
         "orientation": "v",
         "showlegend": false,
         "type": "scatter",
         "x": [
          0,
          0.08,
          0.06,
          0.1,
          0.08,
          0.09,
          0.1,
          0.15,
          0.2,
          0,
          0.18,
          0.06,
          0.1,
          0.1,
          0.2,
          0.12,
          0.05,
          0.1,
          0.15,
          0.2,
          0.12,
          0.18,
          0.1,
          0.18,
          0.06,
          0.09,
          0.04,
          0.09,
          0.08,
          0.15,
          0.12,
          0.15,
          0.1,
          0.18,
          0.2,
          0.06,
          0.1,
          0.18,
          0.09,
          0.19,
          0.02,
          0.2,
          0.14,
          0.18,
          0.115,
          0.17,
          0.1,
          0.13,
          0.18,
          0.09,
          0.06,
          0.23,
          0.09,
          0.24,
          0.18,
          0.1,
          0.2,
          0.09,
          0.18,
          0.08,
          0.09,
          0.06,
          0.15,
          0.2,
          0.24,
          0.25,
          0.32,
          0.29,
          0.28,
          0.3,
          0.27,
          0.31,
          0.29,
          0.3,
          0.28,
          0.255,
          0.265,
          0.275,
          0.245,
          0.295,
          0.32,
          0.295,
          0.315,
          0.25,
          0.27,
          0.248,
          0.325,
          0.27,
          0.29,
          0.29,
          0.258,
          0.32,
          0.251,
          0.288,
          0.323,
          0.255,
          0.295,
          0.258,
          0.29,
          0.243,
          0.27,
          0.299,
          0.3,
          0.245,
          0.295,
          0.29,
          0.26,
          0.305,
          0.32,
          0.299,
          0.276,
          0.258,
          0.32,
          0.329,
          0.295,
          0.285,
          0.265,
          0.315,
          0.28,
          0.325,
          0.28,
          0.255,
          0.305,
          0.3,
          0.325,
          0.312,
          0.299,
          0.265,
          0.255,
          0.295,
          0.39,
          0.4,
          0.45,
          0.48,
          0.4,
          0.41,
          0.38,
          0.37,
          0.41,
          0.38,
          0.33,
          0.42,
          0.44,
          0.39,
          0.42,
          0.46,
          0.365,
          0.33,
          0.345,
          0.48,
          0.49,
          0.334,
          0.36,
          0.39,
          0.43,
          0.44,
          0.45,
          0.495,
          0.465,
          0.475,
          0.348,
          0.385,
          0.445,
          0.43,
          0.33,
          0.4,
          0.34,
          0.38,
          0.35,
          0.41,
          0.42,
          0.43,
          0.44,
          0.4,
          0.46,
          0.38,
          0.39,
          0.49,
          0.46,
          0.44,
          0.365,
          0.45,
          0.46,
          0.37,
          0.38,
          0.49,
          0.495,
          0.44,
          0.365,
          0.49,
          0.445,
          0.42,
          0.37,
          0.4,
          0.6,
          0.55,
          0.68,
          0.73,
          0.78,
          0.55,
          0.59,
          0.64,
          0.6,
          0.69,
          0.78,
          0.62,
          0.7,
          0.75,
          0.55,
          0.85,
          0.78,
          0.8,
          0.9,
          0.76,
          0.72,
          0.6,
          0.52,
          0.6,
          0.51,
          0.58,
          0.61,
          0.77,
          0.79,
          0.68,
          0.58,
          0.77,
          0.71,
          0.58,
          0.88,
          0.99,
          0.73,
          0.61,
          0.51,
          0.83,
          0.66,
          0.58,
          0.523,
          0.66,
          0.62,
          0.52,
          0.5,
          0.71,
          0.64,
          0.52,
          0.62,
          0.91,
          0.62,
          0.58,
          0.89,
          0.72,
          0.68,
          0.56,
          0.54,
          0.61,
          0.78,
          0.54,
          0.5,
          0.66
         ],
         "xaxis": "x",
         "y": [
          0,
          0.9,
          0.33,
          0.3,
          0.24,
          0.66,
          0.56,
          0.01,
          0.25,
          0.85,
          0.81,
          0.3,
          0.34,
          0.9,
          0.6,
          0.8,
          0.05,
          0.33,
          0.29,
          0.56,
          0.2,
          0.66,
          0.65,
          0.28,
          0.25,
          0.85,
          0.1,
          0.25,
          0.56,
          0.81,
          0.59,
          0.24,
          0.16,
          0.82,
          0.78,
          0.29,
          0.26,
          0.33,
          0,
          0.45,
          0.1,
          0.78,
          0.6,
          0.25,
          0.04,
          0.66,
          0.62,
          0.77,
          0.9,
          0.67,
          0.25,
          0.45,
          0.05,
          0.86,
          0.55,
          0.26,
          0.25,
          0.59,
          0.82,
          0.1,
          0.01,
          0.56,
          0.51,
          0.28,
          0.28,
          0.15,
          0.24,
          0.51,
          0.32,
          0.67,
          0.58,
          0.75,
          0.08,
          0.53,
          0.78,
          0.1,
          0.1,
          0.3,
          0.2,
          0.28,
          0.24,
          0.67,
          0.62,
          0.26,
          0.25,
          0.03,
          0.79,
          0.28,
          0.18,
          0.67,
          0.56,
          0.34,
          0.09,
          0.24,
          0.8,
          0.15,
          0.19,
          0.77,
          0.57,
          0.29,
          0.26,
          0.87,
          0.54,
          0.27,
          0.1,
          0.67,
          0.59,
          0.54,
          0.3,
          0.84,
          0.33,
          0.3,
          0.58,
          0.79,
          0.55,
          0.45,
          0.07,
          0.7,
          0.66,
          0.81,
          0.13,
          0.25,
          0.333,
          0.83,
          0.76,
          0.5,
          0.66,
          0.28,
          0.14,
          0.28,
          0.34,
          0.67,
          0.07,
          0.71,
          0.65,
          0.5,
          0.26,
          0.1,
          0.58,
          0.3,
          0.1,
          0.4,
          0.56,
          0.29,
          0.48,
          0.65,
          0.35,
          0.1,
          0.13,
          0.77,
          0.86,
          0.3,
          0.13,
          0.14,
          0.64,
          0.52,
          0.51,
          0.83,
          0.59,
          0.54,
          0.18,
          0.3,
          0.88,
          0.89,
          0.12,
          0.9,
          0.61,
          0.78,
          0.16,
          0.92,
          0.25,
          0.49,
          0.85,
          0.16,
          0.66,
          0.3,
          0.19,
          0.71,
          0.6,
          0.83,
          0.18,
          0.55,
          0.89,
          0.3,
          0.2,
          0.21,
          0.93,
          0.57,
          0.25,
          0.47,
          0.64,
          0.8,
          0.5,
          0.67,
          0.66,
          0.29,
          0.1,
          0.26,
          0.63,
          0.1,
          0.09,
          0.5,
          0.1,
          0.29,
          0.75,
          0.15,
          0.66,
          0.53,
          0.11,
          0.68,
          0.62,
          0.51,
          0.79,
          0.34,
          0.6,
          0.3,
          0.3,
          0.58,
          0.64,
          0.3,
          0.24,
          0.28,
          0.66,
          0.57,
          0.21,
          0.68,
          0.59,
          0.31,
          0.78,
          0.69,
          0.65,
          0.28,
          0.23,
          0.66,
          0.62,
          0.3,
          0.22,
          0.83,
          0.64,
          0.52,
          0.2,
          0.86,
          0.63,
          0.25,
          0.25,
          0.88,
          0.66,
          0.29,
          0.9,
          0.45,
          0.66,
          0.5,
          0.19,
          0.58,
          0.6,
          0.77,
          0.26,
          0.74
         ],
         "yaxis": "y"
        }
       ],
       "layout": {
        "coloraxis": {
         "colorbar": {
          "title": {
           "text": "color"
          }
         },
         "colorscale": [
          [
           0,
           "#0d0887"
          ],
          [
           0.1111111111111111,
           "#46039f"
          ],
          [
           0.2222222222222222,
           "#7201a8"
          ],
          [
           0.3333333333333333,
           "#9c179e"
          ],
          [
           0.4444444444444444,
           "#bd3786"
          ],
          [
           0.5555555555555556,
           "#d8576b"
          ],
          [
           0.6666666666666666,
           "#ed7953"
          ],
          [
           0.7777777777777778,
           "#fb9f3a"
          ],
          [
           0.8888888888888888,
           "#fdca26"
          ],
          [
           1,
           "#f0f921"
          ]
         ]
        },
        "legend": {
         "tracegroupgap": 0
        },
        "margin": {
         "t": 60
        },
        "template": {
         "data": {
          "bar": [
           {
            "error_x": {
             "color": "#2a3f5f"
            },
            "error_y": {
             "color": "#2a3f5f"
            },
            "marker": {
             "line": {
              "color": "#E5ECF6",
              "width": 0.5
             },
             "pattern": {
              "fillmode": "overlay",
              "size": 10,
              "solidity": 0.2
             }
            },
            "type": "bar"
           }
          ],
          "barpolar": [
           {
            "marker": {
             "line": {
              "color": "#E5ECF6",
              "width": 0.5
             },
             "pattern": {
              "fillmode": "overlay",
              "size": 10,
              "solidity": 0.2
             }
            },
            "type": "barpolar"
           }
          ],
          "carpet": [
           {
            "aaxis": {
             "endlinecolor": "#2a3f5f",
             "gridcolor": "white",
             "linecolor": "white",
             "minorgridcolor": "white",
             "startlinecolor": "#2a3f5f"
            },
            "baxis": {
             "endlinecolor": "#2a3f5f",
             "gridcolor": "white",
             "linecolor": "white",
             "minorgridcolor": "white",
             "startlinecolor": "#2a3f5f"
            },
            "type": "carpet"
           }
          ],
          "choropleth": [
           {
            "colorbar": {
             "outlinewidth": 0,
             "ticks": ""
            },
            "type": "choropleth"
           }
          ],
          "contour": [
           {
            "colorbar": {
             "outlinewidth": 0,
             "ticks": ""
            },
            "colorscale": [
             [
              0,
              "#0d0887"
             ],
             [
              0.1111111111111111,
              "#46039f"
             ],
             [
              0.2222222222222222,
              "#7201a8"
             ],
             [
              0.3333333333333333,
              "#9c179e"
             ],
             [
              0.4444444444444444,
              "#bd3786"
             ],
             [
              0.5555555555555556,
              "#d8576b"
             ],
             [
              0.6666666666666666,
              "#ed7953"
             ],
             [
              0.7777777777777778,
              "#fb9f3a"
             ],
             [
              0.8888888888888888,
              "#fdca26"
             ],
             [
              1,
              "#f0f921"
             ]
            ],
            "type": "contour"
           }
          ],
          "contourcarpet": [
           {
            "colorbar": {
             "outlinewidth": 0,
             "ticks": ""
            },
            "type": "contourcarpet"
           }
          ],
          "heatmap": [
           {
            "colorbar": {
             "outlinewidth": 0,
             "ticks": ""
            },
            "colorscale": [
             [
              0,
              "#0d0887"
             ],
             [
              0.1111111111111111,
              "#46039f"
             ],
             [
              0.2222222222222222,
              "#7201a8"
             ],
             [
              0.3333333333333333,
              "#9c179e"
             ],
             [
              0.4444444444444444,
              "#bd3786"
             ],
             [
              0.5555555555555556,
              "#d8576b"
             ],
             [
              0.6666666666666666,
              "#ed7953"
             ],
             [
              0.7777777777777778,
              "#fb9f3a"
             ],
             [
              0.8888888888888888,
              "#fdca26"
             ],
             [
              1,
              "#f0f921"
             ]
            ],
            "type": "heatmap"
           }
          ],
          "heatmapgl": [
           {
            "colorbar": {
             "outlinewidth": 0,
             "ticks": ""
            },
            "colorscale": [
             [
              0,
              "#0d0887"
             ],
             [
              0.1111111111111111,
              "#46039f"
             ],
             [
              0.2222222222222222,
              "#7201a8"
             ],
             [
              0.3333333333333333,
              "#9c179e"
             ],
             [
              0.4444444444444444,
              "#bd3786"
             ],
             [
              0.5555555555555556,
              "#d8576b"
             ],
             [
              0.6666666666666666,
              "#ed7953"
             ],
             [
              0.7777777777777778,
              "#fb9f3a"
             ],
             [
              0.8888888888888888,
              "#fdca26"
             ],
             [
              1,
              "#f0f921"
             ]
            ],
            "type": "heatmapgl"
           }
          ],
          "histogram": [
           {
            "marker": {
             "pattern": {
              "fillmode": "overlay",
              "size": 10,
              "solidity": 0.2
             }
            },
            "type": "histogram"
           }
          ],
          "histogram2d": [
           {
            "colorbar": {
             "outlinewidth": 0,
             "ticks": ""
            },
            "colorscale": [
             [
              0,
              "#0d0887"
             ],
             [
              0.1111111111111111,
              "#46039f"
             ],
             [
              0.2222222222222222,
              "#7201a8"
             ],
             [
              0.3333333333333333,
              "#9c179e"
             ],
             [
              0.4444444444444444,
              "#bd3786"
             ],
             [
              0.5555555555555556,
              "#d8576b"
             ],
             [
              0.6666666666666666,
              "#ed7953"
             ],
             [
              0.7777777777777778,
              "#fb9f3a"
             ],
             [
              0.8888888888888888,
              "#fdca26"
             ],
             [
              1,
              "#f0f921"
             ]
            ],
            "type": "histogram2d"
           }
          ],
          "histogram2dcontour": [
           {
            "colorbar": {
             "outlinewidth": 0,
             "ticks": ""
            },
            "colorscale": [
             [
              0,
              "#0d0887"
             ],
             [
              0.1111111111111111,
              "#46039f"
             ],
             [
              0.2222222222222222,
              "#7201a8"
             ],
             [
              0.3333333333333333,
              "#9c179e"
             ],
             [
              0.4444444444444444,
              "#bd3786"
             ],
             [
              0.5555555555555556,
              "#d8576b"
             ],
             [
              0.6666666666666666,
              "#ed7953"
             ],
             [
              0.7777777777777778,
              "#fb9f3a"
             ],
             [
              0.8888888888888888,
              "#fdca26"
             ],
             [
              1,
              "#f0f921"
             ]
            ],
            "type": "histogram2dcontour"
           }
          ],
          "mesh3d": [
           {
            "colorbar": {
             "outlinewidth": 0,
             "ticks": ""
            },
            "type": "mesh3d"
           }
          ],
          "parcoords": [
           {
            "line": {
             "colorbar": {
              "outlinewidth": 0,
              "ticks": ""
             }
            },
            "type": "parcoords"
           }
          ],
          "pie": [
           {
            "automargin": true,
            "type": "pie"
           }
          ],
          "scatter": [
           {
            "fillpattern": {
             "fillmode": "overlay",
             "size": 10,
             "solidity": 0.2
            },
            "type": "scatter"
           }
          ],
          "scatter3d": [
           {
            "line": {
             "colorbar": {
              "outlinewidth": 0,
              "ticks": ""
             }
            },
            "marker": {
             "colorbar": {
              "outlinewidth": 0,
              "ticks": ""
             }
            },
            "type": "scatter3d"
           }
          ],
          "scattercarpet": [
           {
            "marker": {
             "colorbar": {
              "outlinewidth": 0,
              "ticks": ""
             }
            },
            "type": "scattercarpet"
           }
          ],
          "scattergeo": [
           {
            "marker": {
             "colorbar": {
              "outlinewidth": 0,
              "ticks": ""
             }
            },
            "type": "scattergeo"
           }
          ],
          "scattergl": [
           {
            "marker": {
             "colorbar": {
              "outlinewidth": 0,
              "ticks": ""
             }
            },
            "type": "scattergl"
           }
          ],
          "scattermapbox": [
           {
            "marker": {
             "colorbar": {
              "outlinewidth": 0,
              "ticks": ""
             }
            },
            "type": "scattermapbox"
           }
          ],
          "scatterpolar": [
           {
            "marker": {
             "colorbar": {
              "outlinewidth": 0,
              "ticks": ""
             }
            },
            "type": "scatterpolar"
           }
          ],
          "scatterpolargl": [
           {
            "marker": {
             "colorbar": {
              "outlinewidth": 0,
              "ticks": ""
             }
            },
            "type": "scatterpolargl"
           }
          ],
          "scatterternary": [
           {
            "marker": {
             "colorbar": {
              "outlinewidth": 0,
              "ticks": ""
             }
            },
            "type": "scatterternary"
           }
          ],
          "surface": [
           {
            "colorbar": {
             "outlinewidth": 0,
             "ticks": ""
            },
            "colorscale": [
             [
              0,
              "#0d0887"
             ],
             [
              0.1111111111111111,
              "#46039f"
             ],
             [
              0.2222222222222222,
              "#7201a8"
             ],
             [
              0.3333333333333333,
              "#9c179e"
             ],
             [
              0.4444444444444444,
              "#bd3786"
             ],
             [
              0.5555555555555556,
              "#d8576b"
             ],
             [
              0.6666666666666666,
              "#ed7953"
             ],
             [
              0.7777777777777778,
              "#fb9f3a"
             ],
             [
              0.8888888888888888,
              "#fdca26"
             ],
             [
              1,
              "#f0f921"
             ]
            ],
            "type": "surface"
           }
          ],
          "table": [
           {
            "cells": {
             "fill": {
              "color": "#EBF0F8"
             },
             "line": {
              "color": "white"
             }
            },
            "header": {
             "fill": {
              "color": "#C8D4E3"
             },
             "line": {
              "color": "white"
             }
            },
            "type": "table"
           }
          ]
         },
         "layout": {
          "annotationdefaults": {
           "arrowcolor": "#2a3f5f",
           "arrowhead": 0,
           "arrowwidth": 1
          },
          "autotypenumbers": "strict",
          "coloraxis": {
           "colorbar": {
            "outlinewidth": 0,
            "ticks": ""
           }
          },
          "colorscale": {
           "diverging": [
            [
             0,
             "#8e0152"
            ],
            [
             0.1,
             "#c51b7d"
            ],
            [
             0.2,
             "#de77ae"
            ],
            [
             0.3,
             "#f1b6da"
            ],
            [
             0.4,
             "#fde0ef"
            ],
            [
             0.5,
             "#f7f7f7"
            ],
            [
             0.6,
             "#e6f5d0"
            ],
            [
             0.7,
             "#b8e186"
            ],
            [
             0.8,
             "#7fbc41"
            ],
            [
             0.9,
             "#4d9221"
            ],
            [
             1,
             "#276419"
            ]
           ],
           "sequential": [
            [
             0,
             "#0d0887"
            ],
            [
             0.1111111111111111,
             "#46039f"
            ],
            [
             0.2222222222222222,
             "#7201a8"
            ],
            [
             0.3333333333333333,
             "#9c179e"
            ],
            [
             0.4444444444444444,
             "#bd3786"
            ],
            [
             0.5555555555555556,
             "#d8576b"
            ],
            [
             0.6666666666666666,
             "#ed7953"
            ],
            [
             0.7777777777777778,
             "#fb9f3a"
            ],
            [
             0.8888888888888888,
             "#fdca26"
            ],
            [
             1,
             "#f0f921"
            ]
           ],
           "sequentialminus": [
            [
             0,
             "#0d0887"
            ],
            [
             0.1111111111111111,
             "#46039f"
            ],
            [
             0.2222222222222222,
             "#7201a8"
            ],
            [
             0.3333333333333333,
             "#9c179e"
            ],
            [
             0.4444444444444444,
             "#bd3786"
            ],
            [
             0.5555555555555556,
             "#d8576b"
            ],
            [
             0.6666666666666666,
             "#ed7953"
            ],
            [
             0.7777777777777778,
             "#fb9f3a"
            ],
            [
             0.8888888888888888,
             "#fdca26"
            ],
            [
             1,
             "#f0f921"
            ]
           ]
          },
          "colorway": [
           "#636efa",
           "#EF553B",
           "#00cc96",
           "#ab63fa",
           "#FFA15A",
           "#19d3f3",
           "#FF6692",
           "#B6E880",
           "#FF97FF",
           "#FECB52"
          ],
          "font": {
           "color": "#2a3f5f"
          },
          "geo": {
           "bgcolor": "white",
           "lakecolor": "white",
           "landcolor": "#E5ECF6",
           "showlakes": true,
           "showland": true,
           "subunitcolor": "white"
          },
          "hoverlabel": {
           "align": "left"
          },
          "hovermode": "closest",
          "mapbox": {
           "style": "light"
          },
          "paper_bgcolor": "white",
          "plot_bgcolor": "#E5ECF6",
          "polar": {
           "angularaxis": {
            "gridcolor": "white",
            "linecolor": "white",
            "ticks": ""
           },
           "bgcolor": "#E5ECF6",
           "radialaxis": {
            "gridcolor": "white",
            "linecolor": "white",
            "ticks": ""
           }
          },
          "scene": {
           "xaxis": {
            "backgroundcolor": "#E5ECF6",
            "gridcolor": "white",
            "gridwidth": 2,
            "linecolor": "white",
            "showbackground": true,
            "ticks": "",
            "zerolinecolor": "white"
           },
           "yaxis": {
            "backgroundcolor": "#E5ECF6",
            "gridcolor": "white",
            "gridwidth": 2,
            "linecolor": "white",
            "showbackground": true,
            "ticks": "",
            "zerolinecolor": "white"
           },
           "zaxis": {
            "backgroundcolor": "#E5ECF6",
            "gridcolor": "white",
            "gridwidth": 2,
            "linecolor": "white",
            "showbackground": true,
            "ticks": "",
            "zerolinecolor": "white"
           }
          },
          "shapedefaults": {
           "line": {
            "color": "#2a3f5f"
           }
          },
          "ternary": {
           "aaxis": {
            "gridcolor": "white",
            "linecolor": "white",
            "ticks": ""
           },
           "baxis": {
            "gridcolor": "white",
            "linecolor": "white",
            "ticks": ""
           },
           "bgcolor": "#E5ECF6",
           "caxis": {
            "gridcolor": "white",
            "linecolor": "white",
            "ticks": ""
           }
          },
          "title": {
           "x": 0.05
          },
          "xaxis": {
           "automargin": true,
           "gridcolor": "white",
           "linecolor": "white",
           "ticks": "",
           "title": {
            "standoff": 15
           },
           "zerolinecolor": "white",
           "zerolinewidth": 2
          },
          "yaxis": {
           "automargin": true,
           "gridcolor": "white",
           "linecolor": "white",
           "ticks": "",
           "title": {
            "standoff": 15
           },
           "zerolinecolor": "white",
           "zerolinewidth": 2
          }
         }
        },
        "xaxis": {
         "anchor": "y",
         "domain": [
          0,
          1
         ],
         "title": {
          "text": "STG"
         }
        },
        "yaxis": {
         "anchor": "x",
         "domain": [
          0,
          1
         ],
         "title": {
          "text": "PEG"
         }
        }
       }
      }
     },
     "metadata": {},
     "output_type": "display_data"
    }
   ],
   "source": [
    "# x and y given as DataFrame columns\n",
    "import plotly.express as px\n",
    "\n",
    "fig_actual = px.scatter(users, x=users['STG'], y=users['PEG'], color=users['UNS'],\n",
    "                color_discrete_sequence=[\"red\", \"green\", \"blue\", \"goldenrod\"])\n",
    "\n",
    "fig_K_Means = px.scatter(users, x=users['STG'], y=users['PEG'], color=kmeanModel.labels_,\n",
    "                color_discrete_sequence=[\"red\", \"green\", \"blue\", \"goldenrod\"])\n",
    "\n",
    "fig_K_Means.show()"
   ]
  },
  {
   "cell_type": "code",
   "execution_count": 15,
   "metadata": {},
   "outputs": [
    {
     "data": {
      "application/vnd.plotly.v1+json": {
       "config": {
        "plotlyServerURL": "https://plot.ly"
       },
       "data": [
        {
         "hovertemplate": "UNS=very_low<br>STG=%{x}<br>PEG=%{y}<extra></extra>",
         "legendgroup": "very_low",
         "marker": {
          "color": "red",
          "symbol": "circle"
         },
         "mode": "markers",
         "name": "very_low",
         "orientation": "v",
         "showlegend": true,
         "type": "scatter",
         "x": [
          0,
          0.15,
          0.05,
          0.04,
          0.09,
          0.115,
          0.25,
          0.32,
          0.29,
          0.255,
          0.245,
          0.248,
          0.251,
          0.265,
          0.45,
          0.33,
          0.33,
          0.36,
          0.33,
          0.68,
          0.55,
          0.59,
          0.6,
          0.55
         ],
         "xaxis": "x",
         "y": [
          0,
          0.01,
          0.05,
          0.1,
          0,
          0.04,
          0.15,
          0.24,
          0.08,
          0.1,
          0.2,
          0.03,
          0.09,
          0.07,
          0.07,
          0.1,
          0.1,
          0.13,
          0.12,
          0.1,
          0.1,
          0.09,
          0.1,
          0.11
         ],
         "yaxis": "y"
        },
        {
         "hovertemplate": "UNS=High<br>STG=%{x}<br>PEG=%{y}<extra></extra>",
         "legendgroup": "High",
         "marker": {
          "color": "green",
          "symbol": "circle"
         },
         "mode": "markers",
         "name": "High",
         "orientation": "v",
         "showlegend": true,
         "type": "scatter",
         "x": [
          0.08,
          0,
          0.18,
          0.1,
          0.12,
          0.09,
          0.08,
          0.15,
          0.18,
          0.2,
          0.2,
          0.13,
          0.18,
          0.24,
          0.18,
          0.31,
          0.28,
          0.325,
          0.323,
          0.258,
          0.299,
          0.299,
          0.32,
          0.329,
          0.315,
          0.325,
          0.325,
          0.312,
          0.299,
          0.48,
          0.46,
          0.48,
          0.49,
          0.495,
          0.445,
          0.43,
          0.4,
          0.38,
          0.41,
          0.44,
          0.49,
          0.44,
          0.45,
          0.46,
          0.495,
          0.49,
          0.42,
          0.4,
          0.78,
          0.85,
          0.9,
          0.6,
          0.77,
          0.88,
          0.99,
          0.83,
          0.66,
          0.71,
          0.91,
          0.89,
          0.61,
          0.54,
          0.66
         ],
         "xaxis": "x",
         "y": [
          0.9,
          0.85,
          0.81,
          0.9,
          0.8,
          0.85,
          0.56,
          0.81,
          0.82,
          0.78,
          0.78,
          0.77,
          0.9,
          0.86,
          0.82,
          0.75,
          0.78,
          0.79,
          0.8,
          0.77,
          0.87,
          0.84,
          0.58,
          0.79,
          0.7,
          0.81,
          0.76,
          0.5,
          0.66,
          0.71,
          0.65,
          0.77,
          0.86,
          0.83,
          0.88,
          0.89,
          0.9,
          0.78,
          0.92,
          0.85,
          0.71,
          0.83,
          0.55,
          0.89,
          0.93,
          0.47,
          0.8,
          0.67,
          0.75,
          0.68,
          0.79,
          0.58,
          0.68,
          0.78,
          0.69,
          0.66,
          0.83,
          0.86,
          0.88,
          0.9,
          0.58,
          0.77,
          0.74
         ],
         "yaxis": "y"
        },
        {
         "hovertemplate": "UNS=Low<br>STG=%{x}<br>PEG=%{y}<extra></extra>",
         "legendgroup": "Low",
         "marker": {
          "color": "blue",
          "symbol": "circle"
         },
         "mode": "markers",
         "name": "Low",
         "orientation": "v",
         "showlegend": true,
         "type": "scatter",
         "x": [
          0.06,
          0.08,
          0.2,
          0.06,
          0.1,
          0.15,
          0.12,
          0.18,
          0.06,
          0.09,
          0.15,
          0.1,
          0.06,
          0.1,
          0.18,
          0.02,
          0.06,
          0.09,
          0.1,
          0.08,
          0.09,
          0.2,
          0.28,
          0.265,
          0.275,
          0.295,
          0.32,
          0.25,
          0.27,
          0.27,
          0.29,
          0.288,
          0.255,
          0.295,
          0.243,
          0.27,
          0.245,
          0.295,
          0.276,
          0.258,
          0.28,
          0.255,
          0.305,
          0.265,
          0.255,
          0.39,
          0.38,
          0.37,
          0.38,
          0.39,
          0.365,
          0.345,
          0.334,
          0.39,
          0.348,
          0.35,
          0.42,
          0.4,
          0.38,
          0.39,
          0.365,
          0.37,
          0.38,
          0.49,
          0.365,
          0.55,
          0.73,
          0.69,
          0.62,
          0.6,
          0.52,
          0.58,
          0.61,
          0.58,
          0.58,
          0.61,
          0.51,
          0.58,
          0.523,
          0.5,
          0.52,
          0.58,
          0.54
         ],
         "xaxis": "x",
         "y": [
          0.33,
          0.24,
          0.25,
          0.3,
          0.33,
          0.29,
          0.2,
          0.28,
          0.25,
          0.25,
          0.24,
          0.16,
          0.29,
          0.26,
          0.33,
          0.1,
          0.25,
          0.05,
          0.26,
          0.1,
          0.01,
          0.28,
          0.32,
          0.1,
          0.3,
          0.28,
          0.24,
          0.26,
          0.25,
          0.28,
          0.18,
          0.24,
          0.15,
          0.19,
          0.29,
          0.26,
          0.27,
          0.1,
          0.33,
          0.3,
          0.13,
          0.25,
          0.333,
          0.28,
          0.14,
          0.34,
          0.26,
          0.1,
          0.3,
          0.29,
          0.35,
          0.13,
          0.3,
          0.14,
          0.18,
          0.16,
          0.25,
          0.16,
          0.3,
          0.19,
          0.18,
          0.3,
          0.2,
          0.21,
          0.25,
          0.29,
          0.26,
          0.29,
          0.15,
          0.3,
          0.3,
          0.3,
          0.24,
          0.21,
          0.31,
          0.28,
          0.23,
          0.3,
          0.22,
          0.2,
          0.25,
          0.29,
          0.19
         ],
         "yaxis": "y"
        },
        {
         "hovertemplate": "UNS=Middle<br>STG=%{x}<br>PEG=%{y}<extra></extra>",
         "legendgroup": "Middle",
         "marker": {
          "color": "goldenrod",
          "symbol": "circle"
         },
         "mode": "markers",
         "name": "Middle",
         "orientation": "v",
         "showlegend": true,
         "type": "scatter",
         "x": [
          0.1,
          0.09,
          0.1,
          0.1,
          0.2,
          0.2,
          0.18,
          0.1,
          0.12,
          0.19,
          0.14,
          0.18,
          0.17,
          0.1,
          0.09,
          0.23,
          0.18,
          0.2,
          0.09,
          0.06,
          0.15,
          0.24,
          0.29,
          0.3,
          0.27,
          0.3,
          0.295,
          0.315,
          0.29,
          0.258,
          0.32,
          0.29,
          0.3,
          0.29,
          0.26,
          0.305,
          0.32,
          0.295,
          0.285,
          0.28,
          0.3,
          0.295,
          0.4,
          0.4,
          0.41,
          0.41,
          0.42,
          0.44,
          0.42,
          0.43,
          0.44,
          0.45,
          0.465,
          0.475,
          0.385,
          0.34,
          0.43,
          0.46,
          0.46,
          0.44,
          0.445,
          0.37,
          0.6,
          0.78,
          0.64,
          0.7,
          0.75,
          0.78,
          0.8,
          0.76,
          0.72,
          0.51,
          0.77,
          0.79,
          0.68,
          0.71,
          0.73,
          0.66,
          0.62,
          0.52,
          0.64,
          0.62,
          0.62,
          0.72,
          0.68,
          0.56,
          0.78,
          0.5
         ],
         "xaxis": "x",
         "y": [
          0.3,
          0.66,
          0.56,
          0.34,
          0.6,
          0.56,
          0.66,
          0.65,
          0.59,
          0.45,
          0.6,
          0.25,
          0.66,
          0.62,
          0.67,
          0.45,
          0.55,
          0.25,
          0.59,
          0.56,
          0.51,
          0.28,
          0.51,
          0.67,
          0.58,
          0.53,
          0.67,
          0.62,
          0.67,
          0.56,
          0.34,
          0.57,
          0.54,
          0.67,
          0.59,
          0.54,
          0.3,
          0.55,
          0.45,
          0.66,
          0.83,
          0.28,
          0.67,
          0.65,
          0.5,
          0.58,
          0.4,
          0.56,
          0.48,
          0.64,
          0.52,
          0.51,
          0.59,
          0.54,
          0.3,
          0.61,
          0.49,
          0.66,
          0.6,
          0.57,
          0.64,
          0.5,
          0.66,
          0.63,
          0.5,
          0.66,
          0.53,
          0.62,
          0.51,
          0.34,
          0.6,
          0.64,
          0.28,
          0.66,
          0.57,
          0.59,
          0.65,
          0.62,
          0.64,
          0.52,
          0.63,
          0.25,
          0.66,
          0.45,
          0.66,
          0.5,
          0.6,
          0.26
         ],
         "yaxis": "y"
        },
        {
         "hovertemplate": "STG=%{x}<br>PEG=%{y}<br>color=%{marker.color}<extra></extra>",
         "legendgroup": "",
         "marker": {
          "color": [
           2,
           3,
           2,
           2,
           2,
           3,
           3,
           2,
           2,
           3,
           3,
           2,
           2,
           3,
           3,
           3,
           2,
           2,
           2,
           3,
           2,
           3,
           3,
           2,
           2,
           3,
           2,
           2,
           3,
           3,
           3,
           2,
           2,
           3,
           3,
           2,
           2,
           2,
           2,
           2,
           2,
           3,
           3,
           2,
           2,
           3,
           3,
           3,
           3,
           3,
           2,
           3,
           2,
           3,
           3,
           2,
           2,
           3,
           3,
           2,
           2,
           3,
           3,
           2,
           2,
           2,
           2,
           3,
           2,
           3,
           3,
           3,
           2,
           3,
           3,
           2,
           2,
           2,
           2,
           2,
           2,
           3,
           3,
           2,
           2,
           2,
           3,
           2,
           2,
           3,
           3,
           2,
           2,
           2,
           3,
           2,
           2,
           3,
           3,
           2,
           2,
           3,
           3,
           2,
           2,
           3,
           3,
           3,
           2,
           3,
           2,
           2,
           3,
           3,
           3,
           3,
           2,
           3,
           3,
           3,
           2,
           2,
           2,
           3,
           3,
           3,
           3,
           2,
           2,
           2,
           1,
           3,
           1,
           3,
           3,
           3,
           1,
           2,
           3,
           1,
           2,
           1,
           3,
           1,
           3,
           3,
           1,
           2,
           2,
           3,
           3,
           2,
           2,
           1,
           3,
           3,
           3,
           3,
           3,
           3,
           2,
           1,
           3,
           3,
           2,
           3,
           3,
           3,
           2,
           3,
           1,
           3,
           3,
           1,
           3,
           1,
           1,
           3,
           3,
           3,
           2,
           3,
           3,
           1,
           1,
           1,
           3,
           3,
           1,
           1,
           3,
           3,
           3,
           3,
           0,
           1,
           1,
           1,
           0,
           1,
           1,
           0,
           1,
           1,
           0,
           1,
           0,
           0,
           1,
           0,
           0,
           0,
           0,
           1,
           0,
           1,
           1,
           0,
           0,
           1,
           1,
           1,
           0,
           0,
           1,
           0,
           0,
           1,
           0,
           0,
           0,
           1,
           1,
           0,
           0,
           1,
           1,
           0,
           0,
           0,
           1,
           0,
           0,
           1,
           1,
           0,
           0,
           1,
           0,
           0,
           0,
           0,
           1,
           0,
           0,
           0,
           1,
           0
          ],
          "coloraxis": "coloraxis",
          "symbol": "circle"
         },
         "mode": "markers",
         "name": "",
         "orientation": "v",
         "showlegend": false,
         "type": "scatter",
         "x": [
          0,
          0.08,
          0.06,
          0.1,
          0.08,
          0.09,
          0.1,
          0.15,
          0.2,
          0,
          0.18,
          0.06,
          0.1,
          0.1,
          0.2,
          0.12,
          0.05,
          0.1,
          0.15,
          0.2,
          0.12,
          0.18,
          0.1,
          0.18,
          0.06,
          0.09,
          0.04,
          0.09,
          0.08,
          0.15,
          0.12,
          0.15,
          0.1,
          0.18,
          0.2,
          0.06,
          0.1,
          0.18,
          0.09,
          0.19,
          0.02,
          0.2,
          0.14,
          0.18,
          0.115,
          0.17,
          0.1,
          0.13,
          0.18,
          0.09,
          0.06,
          0.23,
          0.09,
          0.24,
          0.18,
          0.1,
          0.2,
          0.09,
          0.18,
          0.08,
          0.09,
          0.06,
          0.15,
          0.2,
          0.24,
          0.25,
          0.32,
          0.29,
          0.28,
          0.3,
          0.27,
          0.31,
          0.29,
          0.3,
          0.28,
          0.255,
          0.265,
          0.275,
          0.245,
          0.295,
          0.32,
          0.295,
          0.315,
          0.25,
          0.27,
          0.248,
          0.325,
          0.27,
          0.29,
          0.29,
          0.258,
          0.32,
          0.251,
          0.288,
          0.323,
          0.255,
          0.295,
          0.258,
          0.29,
          0.243,
          0.27,
          0.299,
          0.3,
          0.245,
          0.295,
          0.29,
          0.26,
          0.305,
          0.32,
          0.299,
          0.276,
          0.258,
          0.32,
          0.329,
          0.295,
          0.285,
          0.265,
          0.315,
          0.28,
          0.325,
          0.28,
          0.255,
          0.305,
          0.3,
          0.325,
          0.312,
          0.299,
          0.265,
          0.255,
          0.295,
          0.39,
          0.4,
          0.45,
          0.48,
          0.4,
          0.41,
          0.38,
          0.37,
          0.41,
          0.38,
          0.33,
          0.42,
          0.44,
          0.39,
          0.42,
          0.46,
          0.365,
          0.33,
          0.345,
          0.48,
          0.49,
          0.334,
          0.36,
          0.39,
          0.43,
          0.44,
          0.45,
          0.495,
          0.465,
          0.475,
          0.348,
          0.385,
          0.445,
          0.43,
          0.33,
          0.4,
          0.34,
          0.38,
          0.35,
          0.41,
          0.42,
          0.43,
          0.44,
          0.4,
          0.46,
          0.38,
          0.39,
          0.49,
          0.46,
          0.44,
          0.365,
          0.45,
          0.46,
          0.37,
          0.38,
          0.49,
          0.495,
          0.44,
          0.365,
          0.49,
          0.445,
          0.42,
          0.37,
          0.4,
          0.6,
          0.55,
          0.68,
          0.73,
          0.78,
          0.55,
          0.59,
          0.64,
          0.6,
          0.69,
          0.78,
          0.62,
          0.7,
          0.75,
          0.55,
          0.85,
          0.78,
          0.8,
          0.9,
          0.76,
          0.72,
          0.6,
          0.52,
          0.6,
          0.51,
          0.58,
          0.61,
          0.77,
          0.79,
          0.68,
          0.58,
          0.77,
          0.71,
          0.58,
          0.88,
          0.99,
          0.73,
          0.61,
          0.51,
          0.83,
          0.66,
          0.58,
          0.523,
          0.66,
          0.62,
          0.52,
          0.5,
          0.71,
          0.64,
          0.52,
          0.62,
          0.91,
          0.62,
          0.58,
          0.89,
          0.72,
          0.68,
          0.56,
          0.54,
          0.61,
          0.78,
          0.54,
          0.5,
          0.66
         ],
         "xaxis": "x2",
         "y": [
          0,
          0.9,
          0.33,
          0.3,
          0.24,
          0.66,
          0.56,
          0.01,
          0.25,
          0.85,
          0.81,
          0.3,
          0.34,
          0.9,
          0.6,
          0.8,
          0.05,
          0.33,
          0.29,
          0.56,
          0.2,
          0.66,
          0.65,
          0.28,
          0.25,
          0.85,
          0.1,
          0.25,
          0.56,
          0.81,
          0.59,
          0.24,
          0.16,
          0.82,
          0.78,
          0.29,
          0.26,
          0.33,
          0,
          0.45,
          0.1,
          0.78,
          0.6,
          0.25,
          0.04,
          0.66,
          0.62,
          0.77,
          0.9,
          0.67,
          0.25,
          0.45,
          0.05,
          0.86,
          0.55,
          0.26,
          0.25,
          0.59,
          0.82,
          0.1,
          0.01,
          0.56,
          0.51,
          0.28,
          0.28,
          0.15,
          0.24,
          0.51,
          0.32,
          0.67,
          0.58,
          0.75,
          0.08,
          0.53,
          0.78,
          0.1,
          0.1,
          0.3,
          0.2,
          0.28,
          0.24,
          0.67,
          0.62,
          0.26,
          0.25,
          0.03,
          0.79,
          0.28,
          0.18,
          0.67,
          0.56,
          0.34,
          0.09,
          0.24,
          0.8,
          0.15,
          0.19,
          0.77,
          0.57,
          0.29,
          0.26,
          0.87,
          0.54,
          0.27,
          0.1,
          0.67,
          0.59,
          0.54,
          0.3,
          0.84,
          0.33,
          0.3,
          0.58,
          0.79,
          0.55,
          0.45,
          0.07,
          0.7,
          0.66,
          0.81,
          0.13,
          0.25,
          0.333,
          0.83,
          0.76,
          0.5,
          0.66,
          0.28,
          0.14,
          0.28,
          0.34,
          0.67,
          0.07,
          0.71,
          0.65,
          0.5,
          0.26,
          0.1,
          0.58,
          0.3,
          0.1,
          0.4,
          0.56,
          0.29,
          0.48,
          0.65,
          0.35,
          0.1,
          0.13,
          0.77,
          0.86,
          0.3,
          0.13,
          0.14,
          0.64,
          0.52,
          0.51,
          0.83,
          0.59,
          0.54,
          0.18,
          0.3,
          0.88,
          0.89,
          0.12,
          0.9,
          0.61,
          0.78,
          0.16,
          0.92,
          0.25,
          0.49,
          0.85,
          0.16,
          0.66,
          0.3,
          0.19,
          0.71,
          0.6,
          0.83,
          0.18,
          0.55,
          0.89,
          0.3,
          0.2,
          0.21,
          0.93,
          0.57,
          0.25,
          0.47,
          0.64,
          0.8,
          0.5,
          0.67,
          0.66,
          0.29,
          0.1,
          0.26,
          0.63,
          0.1,
          0.09,
          0.5,
          0.1,
          0.29,
          0.75,
          0.15,
          0.66,
          0.53,
          0.11,
          0.68,
          0.62,
          0.51,
          0.79,
          0.34,
          0.6,
          0.3,
          0.3,
          0.58,
          0.64,
          0.3,
          0.24,
          0.28,
          0.66,
          0.57,
          0.21,
          0.68,
          0.59,
          0.31,
          0.78,
          0.69,
          0.65,
          0.28,
          0.23,
          0.66,
          0.62,
          0.3,
          0.22,
          0.83,
          0.64,
          0.52,
          0.2,
          0.86,
          0.63,
          0.25,
          0.25,
          0.88,
          0.66,
          0.29,
          0.9,
          0.45,
          0.66,
          0.5,
          0.19,
          0.58,
          0.6,
          0.77,
          0.26,
          0.74
         ],
         "yaxis": "y2"
        }
       ],
       "layout": {
        "annotations": [
         {
          "font": {
           "size": 16
          },
          "showarrow": false,
          "text": "Actual",
          "x": 0.225,
          "xanchor": "center",
          "xref": "paper",
          "y": 1,
          "yanchor": "bottom",
          "yref": "paper"
         },
         {
          "font": {
           "size": 16
          },
          "showarrow": false,
          "text": "K_Means",
          "x": 0.775,
          "xanchor": "center",
          "xref": "paper",
          "y": 1,
          "yanchor": "bottom",
          "yref": "paper"
         }
        ],
        "coloraxis": {
         "showscale": false
        },
        "template": {
         "data": {
          "bar": [
           {
            "error_x": {
             "color": "#2a3f5f"
            },
            "error_y": {
             "color": "#2a3f5f"
            },
            "marker": {
             "line": {
              "color": "#E5ECF6",
              "width": 0.5
             },
             "pattern": {
              "fillmode": "overlay",
              "size": 10,
              "solidity": 0.2
             }
            },
            "type": "bar"
           }
          ],
          "barpolar": [
           {
            "marker": {
             "line": {
              "color": "#E5ECF6",
              "width": 0.5
             },
             "pattern": {
              "fillmode": "overlay",
              "size": 10,
              "solidity": 0.2
             }
            },
            "type": "barpolar"
           }
          ],
          "carpet": [
           {
            "aaxis": {
             "endlinecolor": "#2a3f5f",
             "gridcolor": "white",
             "linecolor": "white",
             "minorgridcolor": "white",
             "startlinecolor": "#2a3f5f"
            },
            "baxis": {
             "endlinecolor": "#2a3f5f",
             "gridcolor": "white",
             "linecolor": "white",
             "minorgridcolor": "white",
             "startlinecolor": "#2a3f5f"
            },
            "type": "carpet"
           }
          ],
          "choropleth": [
           {
            "colorbar": {
             "outlinewidth": 0,
             "ticks": ""
            },
            "type": "choropleth"
           }
          ],
          "contour": [
           {
            "colorbar": {
             "outlinewidth": 0,
             "ticks": ""
            },
            "colorscale": [
             [
              0,
              "#0d0887"
             ],
             [
              0.1111111111111111,
              "#46039f"
             ],
             [
              0.2222222222222222,
              "#7201a8"
             ],
             [
              0.3333333333333333,
              "#9c179e"
             ],
             [
              0.4444444444444444,
              "#bd3786"
             ],
             [
              0.5555555555555556,
              "#d8576b"
             ],
             [
              0.6666666666666666,
              "#ed7953"
             ],
             [
              0.7777777777777778,
              "#fb9f3a"
             ],
             [
              0.8888888888888888,
              "#fdca26"
             ],
             [
              1,
              "#f0f921"
             ]
            ],
            "type": "contour"
           }
          ],
          "contourcarpet": [
           {
            "colorbar": {
             "outlinewidth": 0,
             "ticks": ""
            },
            "type": "contourcarpet"
           }
          ],
          "heatmap": [
           {
            "colorbar": {
             "outlinewidth": 0,
             "ticks": ""
            },
            "colorscale": [
             [
              0,
              "#0d0887"
             ],
             [
              0.1111111111111111,
              "#46039f"
             ],
             [
              0.2222222222222222,
              "#7201a8"
             ],
             [
              0.3333333333333333,
              "#9c179e"
             ],
             [
              0.4444444444444444,
              "#bd3786"
             ],
             [
              0.5555555555555556,
              "#d8576b"
             ],
             [
              0.6666666666666666,
              "#ed7953"
             ],
             [
              0.7777777777777778,
              "#fb9f3a"
             ],
             [
              0.8888888888888888,
              "#fdca26"
             ],
             [
              1,
              "#f0f921"
             ]
            ],
            "type": "heatmap"
           }
          ],
          "heatmapgl": [
           {
            "colorbar": {
             "outlinewidth": 0,
             "ticks": ""
            },
            "colorscale": [
             [
              0,
              "#0d0887"
             ],
             [
              0.1111111111111111,
              "#46039f"
             ],
             [
              0.2222222222222222,
              "#7201a8"
             ],
             [
              0.3333333333333333,
              "#9c179e"
             ],
             [
              0.4444444444444444,
              "#bd3786"
             ],
             [
              0.5555555555555556,
              "#d8576b"
             ],
             [
              0.6666666666666666,
              "#ed7953"
             ],
             [
              0.7777777777777778,
              "#fb9f3a"
             ],
             [
              0.8888888888888888,
              "#fdca26"
             ],
             [
              1,
              "#f0f921"
             ]
            ],
            "type": "heatmapgl"
           }
          ],
          "histogram": [
           {
            "marker": {
             "pattern": {
              "fillmode": "overlay",
              "size": 10,
              "solidity": 0.2
             }
            },
            "type": "histogram"
           }
          ],
          "histogram2d": [
           {
            "colorbar": {
             "outlinewidth": 0,
             "ticks": ""
            },
            "colorscale": [
             [
              0,
              "#0d0887"
             ],
             [
              0.1111111111111111,
              "#46039f"
             ],
             [
              0.2222222222222222,
              "#7201a8"
             ],
             [
              0.3333333333333333,
              "#9c179e"
             ],
             [
              0.4444444444444444,
              "#bd3786"
             ],
             [
              0.5555555555555556,
              "#d8576b"
             ],
             [
              0.6666666666666666,
              "#ed7953"
             ],
             [
              0.7777777777777778,
              "#fb9f3a"
             ],
             [
              0.8888888888888888,
              "#fdca26"
             ],
             [
              1,
              "#f0f921"
             ]
            ],
            "type": "histogram2d"
           }
          ],
          "histogram2dcontour": [
           {
            "colorbar": {
             "outlinewidth": 0,
             "ticks": ""
            },
            "colorscale": [
             [
              0,
              "#0d0887"
             ],
             [
              0.1111111111111111,
              "#46039f"
             ],
             [
              0.2222222222222222,
              "#7201a8"
             ],
             [
              0.3333333333333333,
              "#9c179e"
             ],
             [
              0.4444444444444444,
              "#bd3786"
             ],
             [
              0.5555555555555556,
              "#d8576b"
             ],
             [
              0.6666666666666666,
              "#ed7953"
             ],
             [
              0.7777777777777778,
              "#fb9f3a"
             ],
             [
              0.8888888888888888,
              "#fdca26"
             ],
             [
              1,
              "#f0f921"
             ]
            ],
            "type": "histogram2dcontour"
           }
          ],
          "mesh3d": [
           {
            "colorbar": {
             "outlinewidth": 0,
             "ticks": ""
            },
            "type": "mesh3d"
           }
          ],
          "parcoords": [
           {
            "line": {
             "colorbar": {
              "outlinewidth": 0,
              "ticks": ""
             }
            },
            "type": "parcoords"
           }
          ],
          "pie": [
           {
            "automargin": true,
            "type": "pie"
           }
          ],
          "scatter": [
           {
            "fillpattern": {
             "fillmode": "overlay",
             "size": 10,
             "solidity": 0.2
            },
            "type": "scatter"
           }
          ],
          "scatter3d": [
           {
            "line": {
             "colorbar": {
              "outlinewidth": 0,
              "ticks": ""
             }
            },
            "marker": {
             "colorbar": {
              "outlinewidth": 0,
              "ticks": ""
             }
            },
            "type": "scatter3d"
           }
          ],
          "scattercarpet": [
           {
            "marker": {
             "colorbar": {
              "outlinewidth": 0,
              "ticks": ""
             }
            },
            "type": "scattercarpet"
           }
          ],
          "scattergeo": [
           {
            "marker": {
             "colorbar": {
              "outlinewidth": 0,
              "ticks": ""
             }
            },
            "type": "scattergeo"
           }
          ],
          "scattergl": [
           {
            "marker": {
             "colorbar": {
              "outlinewidth": 0,
              "ticks": ""
             }
            },
            "type": "scattergl"
           }
          ],
          "scattermapbox": [
           {
            "marker": {
             "colorbar": {
              "outlinewidth": 0,
              "ticks": ""
             }
            },
            "type": "scattermapbox"
           }
          ],
          "scatterpolar": [
           {
            "marker": {
             "colorbar": {
              "outlinewidth": 0,
              "ticks": ""
             }
            },
            "type": "scatterpolar"
           }
          ],
          "scatterpolargl": [
           {
            "marker": {
             "colorbar": {
              "outlinewidth": 0,
              "ticks": ""
             }
            },
            "type": "scatterpolargl"
           }
          ],
          "scatterternary": [
           {
            "marker": {
             "colorbar": {
              "outlinewidth": 0,
              "ticks": ""
             }
            },
            "type": "scatterternary"
           }
          ],
          "surface": [
           {
            "colorbar": {
             "outlinewidth": 0,
             "ticks": ""
            },
            "colorscale": [
             [
              0,
              "#0d0887"
             ],
             [
              0.1111111111111111,
              "#46039f"
             ],
             [
              0.2222222222222222,
              "#7201a8"
             ],
             [
              0.3333333333333333,
              "#9c179e"
             ],
             [
              0.4444444444444444,
              "#bd3786"
             ],
             [
              0.5555555555555556,
              "#d8576b"
             ],
             [
              0.6666666666666666,
              "#ed7953"
             ],
             [
              0.7777777777777778,
              "#fb9f3a"
             ],
             [
              0.8888888888888888,
              "#fdca26"
             ],
             [
              1,
              "#f0f921"
             ]
            ],
            "type": "surface"
           }
          ],
          "table": [
           {
            "cells": {
             "fill": {
              "color": "#EBF0F8"
             },
             "line": {
              "color": "white"
             }
            },
            "header": {
             "fill": {
              "color": "#C8D4E3"
             },
             "line": {
              "color": "white"
             }
            },
            "type": "table"
           }
          ]
         },
         "layout": {
          "annotationdefaults": {
           "arrowcolor": "#2a3f5f",
           "arrowhead": 0,
           "arrowwidth": 1
          },
          "autotypenumbers": "strict",
          "coloraxis": {
           "colorbar": {
            "outlinewidth": 0,
            "ticks": ""
           }
          },
          "colorscale": {
           "diverging": [
            [
             0,
             "#8e0152"
            ],
            [
             0.1,
             "#c51b7d"
            ],
            [
             0.2,
             "#de77ae"
            ],
            [
             0.3,
             "#f1b6da"
            ],
            [
             0.4,
             "#fde0ef"
            ],
            [
             0.5,
             "#f7f7f7"
            ],
            [
             0.6,
             "#e6f5d0"
            ],
            [
             0.7,
             "#b8e186"
            ],
            [
             0.8,
             "#7fbc41"
            ],
            [
             0.9,
             "#4d9221"
            ],
            [
             1,
             "#276419"
            ]
           ],
           "sequential": [
            [
             0,
             "#0d0887"
            ],
            [
             0.1111111111111111,
             "#46039f"
            ],
            [
             0.2222222222222222,
             "#7201a8"
            ],
            [
             0.3333333333333333,
             "#9c179e"
            ],
            [
             0.4444444444444444,
             "#bd3786"
            ],
            [
             0.5555555555555556,
             "#d8576b"
            ],
            [
             0.6666666666666666,
             "#ed7953"
            ],
            [
             0.7777777777777778,
             "#fb9f3a"
            ],
            [
             0.8888888888888888,
             "#fdca26"
            ],
            [
             1,
             "#f0f921"
            ]
           ],
           "sequentialminus": [
            [
             0,
             "#0d0887"
            ],
            [
             0.1111111111111111,
             "#46039f"
            ],
            [
             0.2222222222222222,
             "#7201a8"
            ],
            [
             0.3333333333333333,
             "#9c179e"
            ],
            [
             0.4444444444444444,
             "#bd3786"
            ],
            [
             0.5555555555555556,
             "#d8576b"
            ],
            [
             0.6666666666666666,
             "#ed7953"
            ],
            [
             0.7777777777777778,
             "#fb9f3a"
            ],
            [
             0.8888888888888888,
             "#fdca26"
            ],
            [
             1,
             "#f0f921"
            ]
           ]
          },
          "colorway": [
           "#636efa",
           "#EF553B",
           "#00cc96",
           "#ab63fa",
           "#FFA15A",
           "#19d3f3",
           "#FF6692",
           "#B6E880",
           "#FF97FF",
           "#FECB52"
          ],
          "font": {
           "color": "#2a3f5f"
          },
          "geo": {
           "bgcolor": "white",
           "lakecolor": "white",
           "landcolor": "#E5ECF6",
           "showlakes": true,
           "showland": true,
           "subunitcolor": "white"
          },
          "hoverlabel": {
           "align": "left"
          },
          "hovermode": "closest",
          "mapbox": {
           "style": "light"
          },
          "paper_bgcolor": "white",
          "plot_bgcolor": "#E5ECF6",
          "polar": {
           "angularaxis": {
            "gridcolor": "white",
            "linecolor": "white",
            "ticks": ""
           },
           "bgcolor": "#E5ECF6",
           "radialaxis": {
            "gridcolor": "white",
            "linecolor": "white",
            "ticks": ""
           }
          },
          "scene": {
           "xaxis": {
            "backgroundcolor": "#E5ECF6",
            "gridcolor": "white",
            "gridwidth": 2,
            "linecolor": "white",
            "showbackground": true,
            "ticks": "",
            "zerolinecolor": "white"
           },
           "yaxis": {
            "backgroundcolor": "#E5ECF6",
            "gridcolor": "white",
            "gridwidth": 2,
            "linecolor": "white",
            "showbackground": true,
            "ticks": "",
            "zerolinecolor": "white"
           },
           "zaxis": {
            "backgroundcolor": "#E5ECF6",
            "gridcolor": "white",
            "gridwidth": 2,
            "linecolor": "white",
            "showbackground": true,
            "ticks": "",
            "zerolinecolor": "white"
           }
          },
          "shapedefaults": {
           "line": {
            "color": "#2a3f5f"
           }
          },
          "ternary": {
           "aaxis": {
            "gridcolor": "white",
            "linecolor": "white",
            "ticks": ""
           },
           "baxis": {
            "gridcolor": "white",
            "linecolor": "white",
            "ticks": ""
           },
           "bgcolor": "#E5ECF6",
           "caxis": {
            "gridcolor": "white",
            "linecolor": "white",
            "ticks": ""
           }
          },
          "title": {
           "x": 0.05
          },
          "xaxis": {
           "automargin": true,
           "gridcolor": "white",
           "linecolor": "white",
           "ticks": "",
           "title": {
            "standoff": 15
           },
           "zerolinecolor": "white",
           "zerolinewidth": 2
          },
          "yaxis": {
           "automargin": true,
           "gridcolor": "white",
           "linecolor": "white",
           "ticks": "",
           "title": {
            "standoff": 15
           },
           "zerolinecolor": "white",
           "zerolinewidth": 2
          }
         }
        },
        "xaxis": {
         "anchor": "y",
         "domain": [
          0,
          0.45
         ],
         "title": {
          "text": "STG"
         }
        },
        "xaxis2": {
         "anchor": "y2",
         "domain": [
          0.55,
          1
         ],
         "title": {
          "text": "STG"
         }
        },
        "yaxis": {
         "anchor": "x",
         "domain": [
          0,
          1
         ],
         "title": {
          "text": "PEG"
         }
        },
        "yaxis2": {
         "anchor": "x2",
         "domain": [
          0,
          1
         ],
         "title": {
          "text": "PEG"
         }
        }
       }
      }
     },
     "metadata": {},
     "output_type": "display_data"
    }
   ],
   "source": [
    "import plotly.express as px\n",
    "from plotly.subplots import make_subplots\n",
    "\n",
    "fig_actual = px.scatter(users, x=users['STG'], y=users['PEG'], color=users['UNS'],\n",
    "                color_discrete_sequence=[\"red\", \"green\", \"blue\", \"goldenrod\"])\n",
    "\n",
    "fig_K_Means = px.scatter(users, x=users['STG'], y=users['PEG'], color=kmeanModel.labels_,\n",
    "                    color_discrete_map={\n",
    "                        \"0\": \"red\",\n",
    "                        \"1\": \"green\",\n",
    "                        \"2\": \"blue\",\n",
    "                        \"3\": \"goldenrod\"\n",
    "                    }\n",
    "            )\n",
    "\n",
    "\n",
    "trace1_0 = fig_actual['data'][0]\n",
    "trace1_1 = fig_actual['data'][1]\n",
    "trace1_2 = fig_actual['data'][2]\n",
    "trace1_3 = fig_actual['data'][3]\n",
    "\n",
    "trace2 = fig_K_Means['data'][0]\n",
    "\n",
    "fig = make_subplots(rows=1, cols=2, shared_xaxes=False, shared_yaxes=False,\n",
    "                   subplot_titles=(\"Actual\", \"K_Means\"))\n",
    "\n",
    "fig.add_trace(trace1_0, row=1, col=1)\n",
    "fig.add_trace(trace1_1, row=1, col=1)\n",
    "fig.add_trace(trace1_2, row=1, col=1)\n",
    "fig.add_trace(trace1_3, row=1, col=1)\n",
    "\n",
    "fig.add_trace(trace2, row=1, col=2)\n",
    "\n",
    "# Update xaxis properties\n",
    "fig.update_xaxes(title_text=\"STG\", row=1, col=1)\n",
    "fig.update_xaxes(title_text=\"STG\", row=1, col=2)\n",
    "\n",
    "\n",
    "# Update yaxis properties\n",
    "fig.update_yaxes(title_text=\"PEG\", row=1, col=1)\n",
    "fig.update_yaxes(title_text=\"PEG\", row=1, col=2)\n",
    "\n",
    "fig.update_layout(coloraxis_showscale=False)\n",
    "\n",
    "fig.show()"
   ]
  }
 ],
 "metadata": {
  "kernelspec": {
   "display_name": "Python 3.8.5 ('venv': venv)",
   "language": "python",
   "name": "python3"
  },
  "language_info": {
   "codemirror_mode": {
    "name": "ipython",
    "version": 3
   },
   "file_extension": ".py",
   "mimetype": "text/x-python",
   "name": "python",
   "nbconvert_exporter": "python",
   "pygments_lexer": "ipython3",
   "version": "3.8.5"
  },
  "orig_nbformat": 4,
  "vscode": {
   "interpreter": {
    "hash": "6b23ad24b6257030d30a40ddb05b8b1b8898a4293656917bbf25df5ac9c04e18"
   }
  }
 },
 "nbformat": 4,
 "nbformat_minor": 2
}
